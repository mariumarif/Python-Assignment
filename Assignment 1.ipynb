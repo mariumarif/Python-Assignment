{
 "cells": [
  {
   "cell_type": "code",
   "execution_count": 6,
   "metadata": {},
   "outputs": [
    {
     "name": "stdout",
     "output_type": "stream",
     "text": [
      "           Twinkle, twinkle, little star,\n",
      "                 How I wonder what you are!\n",
      "                       Up above the world so high,\n",
      "                       Like a diamond in the sky.\n",
      "           Twinkle, twinkle, little star,\n",
      "                 How I wonder what you are\n"
     ]
    }
   ],
   "source": [
    "\"\"\"\n",
    "Q1) Write a Python program to print the following string in a specific format(see the output)\n",
    "               Twinkle, twinkle, little star,\n",
    "                     How I wonder what you are!\n",
    "                           Up above the world so high,\n",
    "                           Like a diamond in the sky.\n",
    "               Twinkle, twinkle, little star,\n",
    "                     How I wonder what you are\n",
    "\"\"\"\n",
    "print(\"           Twinkle, twinkle, little star,\")\n",
    "print(\"                 How I wonder what you are!\")\n",
    "print(\"                       Up above the world so high,\")\n",
    "print(\"                       Like a diamond in the sky.\")\n",
    "print(\"           Twinkle, twinkle, little star,\")\n",
    "print(\"                 How I wonder what you are\")\n"
   ]
  },
  {
   "cell_type": "code",
   "execution_count": 14,
   "metadata": {},
   "outputs": [
    {
     "name": "stdout",
     "output_type": "stream",
     "text": [
      "Python version\n",
      "3.7.4 (default, Aug  9 2019, 18:34:13) [MSC v.1915 64 bit (AMD64)]\n"
     ]
    }
   ],
   "source": [
    "\"\"\"\n",
    "Q2) Write a Python program to get the Python version you are using\n",
    "\"\"\"\n",
    "import sys\n",
    "print(\"Python version\")\n",
    "print (sys.version)\n",
    "#print(\"Version info.\")\n",
    "#print (sys.version_info)"
   ]
  },
  {
   "cell_type": "code",
   "execution_count": 27,
   "metadata": {},
   "outputs": [
    {
     "name": "stdout",
     "output_type": "stream",
     "text": [
      "Current date and time : \n",
      "2019-11-01 22:42:01\n",
      " OR \n",
      "01 November,2019 22:42:01\n"
     ]
    }
   ],
   "source": [
    "\"\"\"\n",
    "Q3) Write a Python program to display the current date and time\n",
    "\"\"\"\n",
    "import datetime\n",
    "now = datetime.datetime.now()\n",
    "print (\"Current date and time : \")\n",
    "print (now.strftime('%Y-%m-%d %H:%M:%S'))\n",
    "\n",
    "print(\" OR \")\n",
    "\n",
    "print(now.strftime('%d %B,%Y %H:%M:%S'))\n",
    "\n",
    "#print(str(now))"
   ]
  },
  {
   "cell_type": "code",
   "execution_count": 36,
   "metadata": {},
   "outputs": [
    {
     "name": "stdout",
     "output_type": "stream",
     "text": [
      "Enter the value of radius of a circle: 4\n",
      "The area of the circle is:  50.26548245743669\n"
     ]
    }
   ],
   "source": [
    "\"\"\"\n",
    "Q4) Write a Python program which accepts the radius of a circle from the user and compute the area.\n",
    "\"\"\"\n",
    "radius= input(\"Enter the value of radius of a circle: \")\n",
    "area= math.pi * int(radius)**2\n",
    "print(\"The area of the circle is: \", area)"
   ]
  },
  {
   "cell_type": "code",
   "execution_count": 38,
   "metadata": {},
   "outputs": [
    {
     "name": "stdout",
     "output_type": "stream",
     "text": [
      "Enter your first name: Regina\n",
      "Enter your last name: Phalange\n",
      "Phalange Regina\n"
     ]
    }
   ],
   "source": [
    "\"\"\"\n",
    "Q5) Write a Python program which accepts the user's first and last name and print them in reverse order with a space between them\n",
    "\"\"\"\n",
    "FirstName= input(\"Enter your first name: \")\n",
    "LastName= input(\"Enter your last name: \")\n",
    "print(LastName + \" \" + FirstName)"
   ]
  },
  {
   "cell_type": "code",
   "execution_count": 39,
   "metadata": {},
   "outputs": [
    {
     "name": "stdout",
     "output_type": "stream",
     "text": [
      "Enter first number: 6\n",
      "Enter second number: 5\n",
      "11\n"
     ]
    }
   ],
   "source": [
    "\"\"\"\n",
    "Q6) Write a Python program which takes two inputs from user and print them addition\n",
    "\"\"\"\n",
    "Number1= int(input(\"Enter first number: \"))\n",
    "Number2= int(input(\"Enter second number: \"))\n",
    "result= Number1 + Number2\n",
    "print(result)"
   ]
  },
  {
   "cell_type": "code",
   "execution_count": null,
   "metadata": {},
   "outputs": [],
   "source": []
  }
 ],
 "metadata": {
  "kernelspec": {
   "display_name": "Python 3",
   "language": "python",
   "name": "python3"
  },
  "language_info": {
   "codemirror_mode": {
    "name": "ipython",
    "version": 3
   },
   "file_extension": ".py",
   "mimetype": "text/x-python",
   "name": "python",
   "nbconvert_exporter": "python",
   "pygments_lexer": "ipython3",
   "version": "3.7.4"
  }
 },
 "nbformat": 4,
 "nbformat_minor": 2
}
