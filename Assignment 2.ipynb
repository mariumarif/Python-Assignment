{
 "cells": [
  {
   "cell_type": "code",
   "execution_count": 8,
   "metadata": {},
   "outputs": [
    {
     "name": "stdout",
     "output_type": "stream",
     "text": [
      "Enter your percentage %: -10\n",
      "You have entered inappropiate percentage\n"
     ]
    }
   ],
   "source": [
    "\"\"\"\n",
    "Q)Make a marksheet, take percentage input from user.\n",
    "\"\"\"\n",
    "percentage = int(input(\"Enter your percentage %: \"));\n",
    "if percentage >= 80 and percentage <= 100 :\n",
    "    print(\"A+\")\n",
    "elif percentage >= 70 and percentage < 80 :\n",
    "    print(\"A\")\n",
    "elif percentage >= 60 and percentage <70 :\n",
    "    print(\"B\")\n",
    "elif percentage >= 50 and percentage <60 :\n",
    "    print(\"C\")\n",
    "elif percentage >= 40 and percentage <50 :\n",
    "    print(\"D\")\n",
    "elif percentage >= 33 and percentage <40 :\n",
    "    print(\"E\")\n",
    "elif percentage >= 0 and percentage < 33 :\n",
    "    print(\"Fail\")\n",
    "else :\n",
    "    print(\"You have entered inappropiate percentage\")"
   ]
  },
  {
   "cell_type": "code",
   "execution_count": null,
   "metadata": {},
   "outputs": [],
   "source": []
  },
  {
   "cell_type": "code",
   "execution_count": null,
   "metadata": {},
   "outputs": [],
   "source": []
  },
  {
   "cell_type": "code",
   "execution_count": null,
   "metadata": {},
   "outputs": [],
   "source": []
  }
 ],
 "metadata": {
  "kernelspec": {
   "display_name": "Python 3",
   "language": "python",
   "name": "python3"
  },
  "language_info": {
   "codemirror_mode": {
    "name": "ipython",
    "version": 3
   },
   "file_extension": ".py",
   "mimetype": "text/x-python",
   "name": "python",
   "nbconvert_exporter": "python",
   "pygments_lexer": "ipython3",
   "version": "3.7.4"
  }
 },
 "nbformat": 4,
 "nbformat_minor": 2
}
