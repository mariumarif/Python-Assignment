{
 "cells": [
  {
   "cell_type": "code",
   "execution_count": 16,
   "metadata": {},
   "outputs": [
    {
     "name": "stdout",
     "output_type": "stream",
     "text": [
      "Enter first operand: 3\n",
      "Enter second operand: 5\n",
      "Enter the operation which you want to perform on these two operands: ?\n",
      "You have entered the incorrect operator. Please re-enter the operator\n",
      "Enter the operation which you want to perform on these two operands: /\n",
      "3.0 / 5.0 = 0.6\n"
     ]
    }
   ],
   "source": [
    "\"\"\"\n",
    "Question no 1:\n",
    "Make a calculator using Python with addition , subtraction , multiplication ,\n",
    "division and power.\n",
    "\"\"\"\n",
    "\n",
    "value1= float(input(\"Enter first operand: \"))\n",
    "value2= float(input(\"Enter second operand: \"))\n",
    "operator= input(\"Enter the operation which you want to perform on these two operands: \")\n",
    "\n",
    "if operator == \"+\" :\n",
    "    answer= value1 + value2\n",
    "    \n",
    "elif operator == \"-\" :\n",
    "    answer= value1 - value2\n",
    "    \n",
    "elif operator == \"*\" :\n",
    "    answer= value1 * value2\n",
    "    \n",
    "elif operator == \"/\" :\n",
    "    answer= value1 / value2\n",
    "    \n",
    "elif operator == \"^\" or operator == \"**\" :\n",
    "    answer= value1 ** value2\n",
    "    \n",
    "else :\n",
    "\n",
    "    print(\"You have entered the incorrect operator. Please re-enter the operator\")\n",
    "    operator= input(\"Enter the operation which you want to perform on these two operands: \")\n",
    "\n",
    "    if operator == \"+\" :\n",
    "        answer= value1 + value2\n",
    "    \n",
    "    elif operator == \"-\" :\n",
    "        answer= value1 - value2\n",
    "    \n",
    "    elif operator == \"*\" :\n",
    "        answer= value1 * value2\n",
    "    \n",
    "    elif operator == \"/\" :\n",
    "        answer= value1 / value2\n",
    "    \n",
    "    elif operator == \"^\" or operator == \"**\" :\n",
    "        answer= value1 ** value2\n",
    "        \n",
    "print(str(value1) + ' ' + operator + ' ' + str(value2) + ' = ' + str(answer) )\n",
    "\n",
    "\n"
   ]
  },
  {
   "cell_type": "code",
   "execution_count": 34,
   "metadata": {},
   "outputs": [
    {
     "name": "stdout",
     "output_type": "stream",
     "text": [
      "Yes there is a numeric value in the list which is 2.5\n",
      "Yes there is a numeric value in the list which is 61\n"
     ]
    }
   ],
   "source": [
    "\"\"\"\n",
    "Question no 2:\n",
    "Write a program to check if there is any numeric value in list using for loop\n",
    "\"\"\"\n",
    "#flag = False\n",
    "listt = ['A', 'XYZ', True, 2.5, 61, [1,2,3], {'a' : 'A'}, ('A','B','C')]\n",
    "\n",
    "for a in listt :\n",
    "    if type(a) == int or type(a) == float :\n",
    "        #flag = True\n",
    "        print('Yes there is a numeric value in the list which is', a)\n"
   ]
  },
  {
   "cell_type": "code",
   "execution_count": 70,
   "metadata": {},
   "outputs": [
    {
     "name": "stdout",
     "output_type": "stream",
     "text": [
      "{0: 'L', 1: 'M', 2: 'N', 3: 'O', 4: 'P'}\n"
     ]
    }
   ],
   "source": [
    "\"\"\"\n",
    "Question no 3:\n",
    "Write a Python script to add a key to a dictionary.\n",
    "\"\"\"\n",
    "listt = ['L', 'M', 'N', 'O', 'P']\n",
    "dictionary = { }\n",
    "for a, b in enumerate(listt):\n",
    "    dictionary.update({a : b})\n",
    "print(dictionary)"
   ]
  },
  {
   "cell_type": "code",
   "execution_count": 72,
   "metadata": {},
   "outputs": [
    {
     "name": "stdout",
     "output_type": "stream",
     "text": [
      "12.9\n"
     ]
    }
   ],
   "source": [
    "\"\"\"\n",
    "Question no 4:\n",
    "Write a Python program to sum all the numeric items in a dictionary\n",
    "\"\"\"\n",
    "dictionary = {'A': 1,'B': 2,'C': 3,'D': True,'E': 'ABC','F': 6.9}\n",
    "sum = 0\n",
    "for a in dictionary.values() :\n",
    "    if type(a) == int or type(a) == float :\n",
    "        sum = sum + a\n",
    "print(sum)"
   ]
  },
  {
   "cell_type": "code",
   "execution_count": 71,
   "metadata": {},
   "outputs": [
    {
     "name": "stdout",
     "output_type": "stream",
     "text": [
      "['ABC', 6]\n"
     ]
    }
   ],
   "source": [
    "\"\"\"\n",
    "Question no 5:\n",
    "Write a program to identify duplicate values from list.\n",
    "\"\"\"\n",
    "listt = ['ABC', 'XYZ', 6, 'ABC', 5, 6, '5', 7.5]\n",
    "dup = []\n",
    "for a in range(len(listt)) :\n",
    "        for b in range(a, len(listt)): \n",
    "            if a != b and listt[a] == listt[b]:\n",
    "                dup.append(listt[a])\n",
    "print(dup)\n",
    "    "
   ]
  },
  {
   "cell_type": "code",
   "execution_count": 69,
   "metadata": {},
   "outputs": [
    {
     "name": "stdout",
     "output_type": "stream",
     "text": [
      "Key already exists in the dictionary\n"
     ]
    }
   ],
   "source": [
    "\"\"\"\n",
    "Question no 6:\n",
    "Write a Python script to check if a given key already exists in a dictionary\n",
    "\"\"\"\n",
    "key = 'd'\n",
    "dictionary = {'a': 0, 'b': 1, 'c': 2, 'd': 3, 'f': 4, 'a' : 5}\n",
    "for each_key in dictionary.keys() :\n",
    "    if key == each_key :\n",
    "        flag = True\n",
    "        break\n",
    "    else :\n",
    "        flag = False\n",
    "    \n",
    "if flag == True : \n",
    "        print(\"Key already exists in the dictionary\")\n",
    "else :\n",
    "        print(\"Key doesn't exist in the dictionary\")"
   ]
  },
  {
   "cell_type": "code",
   "execution_count": null,
   "metadata": {},
   "outputs": [],
   "source": []
  },
  {
   "cell_type": "code",
   "execution_count": null,
   "metadata": {},
   "outputs": [],
   "source": []
  },
  {
   "cell_type": "code",
   "execution_count": null,
   "metadata": {},
   "outputs": [],
   "source": []
  },
  {
   "cell_type": "code",
   "execution_count": null,
   "metadata": {},
   "outputs": [],
   "source": []
  }
 ],
 "metadata": {
  "kernelspec": {
   "display_name": "Python 3",
   "language": "python",
   "name": "python3"
  },
  "language_info": {
   "codemirror_mode": {
    "name": "ipython",
    "version": 3
   },
   "file_extension": ".py",
   "mimetype": "text/x-python",
   "name": "python",
   "nbconvert_exporter": "python",
   "pygments_lexer": "ipython3",
   "version": "3.7.4"
  }
 },
 "nbformat": 4,
 "nbformat_minor": 2
}
